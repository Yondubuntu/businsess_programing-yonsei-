{
 "cells": [
  {
   "cell_type": "markdown",
   "id": "13c86957",
   "metadata": {},
   "source": [
    "# 함수 만들기\n"
   ]
  },
  {
   "cell_type": "code",
   "execution_count": 4,
   "id": "17ab322f",
   "metadata": {},
   "outputs": [],
   "source": [
    "result = 0 \n",
    "\n",
    "def add(num) :\n",
    "    global result \n",
    "    result += num \n",
    "    \n",
    "    return result \n",
    "\n"
   ]
  },
  {
   "cell_type": "code",
   "execution_count": 7,
   "id": "e658213c",
   "metadata": {},
   "outputs": [
    {
     "name": "stdout",
     "output_type": "stream",
     "text": [
      "9\n",
      "12\n"
     ]
    }
   ],
   "source": [
    "print(add(3))\n",
    "\n",
    "print(add(3))"
   ]
  },
  {
   "cell_type": "code",
   "execution_count": 10,
   "id": "32857832",
   "metadata": {},
   "outputs": [
    {
     "name": "stdout",
     "output_type": "stream",
     "text": [
      "3\n",
      "3\n"
     ]
    }
   ],
   "source": [
    "result1 = 0\n",
    "result2 = 0\n",
    "\n",
    "\n",
    "def add1(num) :\n",
    "    global result1 \n",
    "    result1 += num \n",
    "    \n",
    "    return result1\n",
    "\n",
    "def add2(num) :\n",
    "    global result2\n",
    "    result2 += num \n",
    "    \n",
    "    return result2\n",
    "\n",
    "\n",
    "print(add1(3))\n",
    "\n",
    "print(add2(3))\n",
    "\n"
   ]
  },
  {
   "cell_type": "markdown",
   "id": "202bf5a8",
   "metadata": {},
   "source": [
    "## 클래스 \n",
    "\n",
    "## class 사용이 간편하고  코드 재사용이 편하고 독립적으로 실행도 모두 가능하다\n",
    "## 같은연산의 함수를 또 만들필요가없다"
   ]
  },
  {
   "cell_type": "code",
   "execution_count": null,
   "id": "be09961c",
   "metadata": {},
   "outputs": [],
   "source": [
    "class Calculation : \n",
    "\n",
    "    pass \n",
    "\n",
    "\n",
    "\n",
    "a = Calculation()\n",
    "\n",
    "\n",
    "b = Calculation()\n"
   ]
  },
  {
   "cell_type": "code",
   "execution_count": 38,
   "id": "62c3be30",
   "metadata": {},
   "outputs": [],
   "source": [
    "class FourCal: \n",
    "    def setdata(self , first ,second) : #first second 2개의 숫자 받아오기 \n",
    "        self.first = first \n",
    "        self.second = second\n",
    "    \n",
    "    def add(self):\n",
    "        reesult = self.first+self.second \n",
    "        return result\n",
    "    def mul(self):\n",
    "        reesult = self.first*self.second \n",
    "        return result\n",
    "            \n",
    "    def sub(self):\n",
    "        reesult = self.first-self.second \n",
    "        return result\n",
    "            \n",
    "    def div(self):\n",
    "        reesult = self.first/self.second \n",
    "        return result"
   ]
  },
  {
   "cell_type": "code",
   "execution_count": 40,
   "id": "67311dd7",
   "metadata": {},
   "outputs": [],
   "source": [
    "c = FourCal()"
   ]
  },
  {
   "cell_type": "code",
   "execution_count": 44,
   "id": "94cc28ec",
   "metadata": {},
   "outputs": [
    {
     "data": {
      "text/plain": [
       "55"
      ]
     },
     "execution_count": 44,
     "metadata": {},
     "output_type": "execute_result"
    }
   ],
   "source": [
    "c.second"
   ]
  },
  {
   "cell_type": "code",
   "execution_count": 41,
   "id": "e6613b94",
   "metadata": {},
   "outputs": [],
   "source": [
    "c.setdata(5,55)"
   ]
  },
  {
   "cell_type": "code",
   "execution_count": 42,
   "id": "31649455",
   "metadata": {},
   "outputs": [
    {
     "data": {
      "text/plain": [
       "<bound method FourCal.add of <__main__.FourCal object at 0x118c44ca0>>"
      ]
     },
     "execution_count": 42,
     "metadata": {},
     "output_type": "execute_result"
    }
   ],
   "source": [
    "c.add"
   ]
  },
  {
   "cell_type": "markdown",
   "id": "44c38229",
   "metadata": {},
   "source": [
    "## self 객체가 무엇인지 알아보자"
   ]
  },
  {
   "cell_type": "code",
   "execution_count": 14,
   "id": "4d3b9b9b",
   "metadata": {},
   "outputs": [
    {
     "data": {
      "text/plain": [
       "2"
      ]
     },
     "execution_count": 14,
     "metadata": {},
     "output_type": "execute_result"
    }
   ],
   "source": [
    "a = FourCal ()\n",
    "\n",
    "a.setdata(1,2) ## 2개의 숫자 입력 3개의 숫자가아니여도 사용 가능한함수 \n",
    "\n",
    "a.first \n",
    "a.second\n"
   ]
  },
  {
   "cell_type": "code",
   "execution_count": 16,
   "id": "e784a588",
   "metadata": {},
   "outputs": [],
   "source": [
    "b = FourCal()"
   ]
  },
  {
   "cell_type": "code",
   "execution_count": 19,
   "id": "3a16e849",
   "metadata": {},
   "outputs": [
    {
     "name": "stdout",
     "output_type": "stream",
     "text": [
      "3\n",
      "4\n"
     ]
    }
   ],
   "source": [
    "b.setdata(3,4)\n",
    "\n",
    "print(b.first)\n",
    "print(b.second)"
   ]
  },
  {
   "cell_type": "code",
   "execution_count": null,
   "id": "b55afb45",
   "metadata": {},
   "outputs": [],
   "source": []
  }
 ],
 "metadata": {
  "kernelspec": {
   "display_name": "Python 3 (ipykernel)",
   "language": "python",
   "name": "python3"
  },
  "language_info": {
   "codemirror_mode": {
    "name": "ipython",
    "version": 3
   },
   "file_extension": ".py",
   "mimetype": "text/x-python",
   "name": "python",
   "nbconvert_exporter": "python",
   "pygments_lexer": "ipython3",
   "version": "3.9.10"
  }
 },
 "nbformat": 4,
 "nbformat_minor": 5
}
