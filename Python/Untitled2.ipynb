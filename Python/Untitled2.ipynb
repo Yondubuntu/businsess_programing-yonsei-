{
 "cells": [
  {
   "cell_type": "markdown",
   "id": "979baed4",
   "metadata": {},
   "source": [
    "# 외장함수"
   ]
  },
  {
   "cell_type": "code",
   "execution_count": 6,
   "id": "482dbdf0",
   "metadata": {},
   "outputs": [],
   "source": [
    "import sys # Sys: sys 모듈은 파이썬 인터프리터가 제공하는 변수들과 함수들을 직접 제어할 수 있게 해주는 모듈입니다.\n",
    "import os  #  Os: OS 모듈은 환경 변수나 디렉터리, 파일 등의 OS 자원을 제어할 수 있게 해주는 모듈입니다.\n",
    "import time\n",
    "import pickle # pickle은 객체의 형태를 그대로 유지하면서 파일에 저장하고 불러올 수 있게 하는 모듈입니다.\n"
   ]
  },
  {
   "cell_type": "code",
   "execution_count": 2,
   "id": "0a233205",
   "metadata": {},
   "outputs": [
    {
     "name": "stdout",
     "output_type": "stream",
     "text": [
      "['/Users/jeongduyong/Desktop', '/opt/homebrew/Cellar/python@3.9/3.9.10/Frameworks/Python.framework/Versions/3.9/lib/python39.zip', '/opt/homebrew/Cellar/python@3.9/3.9.10/Frameworks/Python.framework/Versions/3.9/lib/python3.9', '/opt/homebrew/Cellar/python@3.9/3.9.10/Frameworks/Python.framework/Versions/3.9/lib/python3.9/lib-dynload', '', '/opt/homebrew/lib/python3.9/site-packages', '/opt/homebrew/lib/python3.9/site-packages/py_sds011-0.9-py3.9.egg', '/opt/homebrew/lib/python3.9/site-packages/IPython/extensions', '/Users/jeongduyong/.ipython']\n"
     ]
    }
   ],
   "source": [
    "print(sys.path)"
   ]
  },
  {
   "cell_type": "code",
   "execution_count": 3,
   "id": "21e8eb55",
   "metadata": {},
   "outputs": [],
   "source": [
    "f = open(\"text.txt\" ,'wb')"
   ]
  },
  {
   "cell_type": "code",
   "execution_count": 7,
   "id": "58d76466",
   "metadata": {},
   "outputs": [],
   "source": [
    " data = {1: 'python', 2: 'you need'}\n",
    "pickle.dump(data, f)"
   ]
  },
  {
   "cell_type": "code",
   "execution_count": 8,
   "id": "d0881300",
   "metadata": {},
   "outputs": [
    {
     "name": "stdout",
     "output_type": "stream",
     "text": [
      "{1: 'python', 2: 'you need'}\n"
     ]
    }
   ],
   "source": [
    "print(data)\n"
   ]
  },
  {
   "cell_type": "code",
   "execution_count": 9,
   "id": "c683b900",
   "metadata": {},
   "outputs": [
    {
     "name": "stdout",
     "output_type": "stream",
     "text": [
      "os.environ environ({'__CFBundleIdentifier': 'com.apple.Terminal', 'TMPDIR': '/var/folders/ht/4d122qr50vs5jr5k781my7yr0000gn/T/', 'XPC_FLAGS': '0x0', 'LaunchInstanceID': '45EF9ADD-71F7-4925-A9AE-70A670C8D6E5', 'TERM': 'xterm-color', 'SSH_AUTH_SOCK': '/private/tmp/com.apple.launchd.pGtjxWCZwD/Listeners', 'SECURITYSESSIONID': '186b5', 'XPC_SERVICE_NAME': '0', 'TERM_PROGRAM': 'Apple_Terminal', 'TERM_PROGRAM_VERSION': '444', 'TERM_SESSION_ID': 'D71419F2-35EE-42F7-9432-6F19C988ECC8', 'SHELL': '/bin/zsh', 'HOME': '/Users/jeongduyong', 'LOGNAME': 'jeongduyong', 'USER': 'jeongduyong', 'PATH': '/opt/homebrew/bin:/Users/jeongduyong/miniforge3/bin:/opt/homebrew/bin:/opt/homebrew/sbin:/usr/local/bin:/usr/bin:/bin:/usr/sbin:/sbin:/Applications/VMware Fusion Tech Preview.app/Contents/Public:/usr/local/share/dotnet:~/.dotnet/tools:/Library/Apple/usr/bin:/Library/Frameworks/Mono.framework/Versions/Current/Commands', 'SHLVL': '1', 'PWD': '/Users/jeongduyong', 'OLDPWD': '/Users/jeongduyong', 'HOMEBREW_PREFIX': '/opt/homebrew', 'HOMEBREW_CELLAR': '/opt/homebrew/Cellar', 'HOMEBREW_REPOSITORY': '/opt/homebrew', 'MANPATH': '/opt/homebrew/share/man::', 'INFOPATH': '/opt/homebrew/share/info:', 'LC_CTYPE': 'UTF-8', '_': '/opt/homebrew/bin/jupyter', '__CF_USER_TEXT_ENCODING': '0x1F5:0x3:0x33', 'PYDEVD_USE_FRAME_EVAL': 'NO', 'JPY_PARENT_PID': '926', 'CLICOLOR': '1', 'PAGER': 'cat', 'GIT_PAGER': 'cat', 'MPLBACKEND': 'module://matplotlib_inline.backend_inline'})\n"
     ]
    }
   ],
   "source": [
    "print(\"os.environ\",os.environ)"
   ]
  },
  {
   "cell_type": "markdown",
   "id": "9dd758e5",
   "metadata": {},
   "source": [
    "# 내장함수"
   ]
  },
  {
   "cell_type": "code",
   "execution_count": 14,
   "id": "52073b26",
   "metadata": {},
   "outputs": [],
   "source": [
    "def uadd(x, y):\n",
    "    return x + y\n",
    "def square(x,y):\n",
    "    return x*x, y*y\n",
    "\n",
    "def foo(val1, val2, val3, calcSum=True):\n",
    "    if calcSum:\n",
    "         return (val1 + val2 + val3)\n",
    "    else:                               # Calculate the average instead\n",
    "        return (val1 + val2 + val3) / 3"
   ]
  },
  {
   "cell_type": "code",
   "execution_count": 15,
   "id": "cff3aaa7",
   "metadata": {},
   "outputs": [
    {
     "name": "stdout",
     "output_type": "stream",
     "text": [
      "11\n"
     ]
    }
   ],
   "source": [
    "print(uadd(3,8))"
   ]
  },
  {
   "cell_type": "code",
   "execution_count": 17,
   "id": "af93d5ea",
   "metadata": {},
   "outputs": [
    {
     "name": "stdout",
     "output_type": "stream",
     "text": [
      "6\n",
      "2.0\n"
     ]
    }
   ],
   "source": [
    "\n",
    "print(foo(1, 2, 3))\n",
    "print(foo(1, 2, 3, calcSum=False))"
   ]
  },
  {
   "cell_type": "code",
   "execution_count": null,
   "id": "5e08d172",
   "metadata": {},
   "outputs": [],
   "source": []
  }
 ],
 "metadata": {
  "kernelspec": {
   "display_name": "Python 3 (ipykernel)",
   "language": "python",
   "name": "python3"
  },
  "language_info": {
   "codemirror_mode": {
    "name": "ipython",
    "version": 3
   },
   "file_extension": ".py",
   "mimetype": "text/x-python",
   "name": "python",
   "nbconvert_exporter": "python",
   "pygments_lexer": "ipython3",
   "version": "3.9.10"
  }
 },
 "nbformat": 4,
 "nbformat_minor": 5
}
