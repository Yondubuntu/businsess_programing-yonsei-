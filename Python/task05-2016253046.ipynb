{
 "cells": [
  {
   "cell_type": "markdown",
   "id": "417cd9e6",
   "metadata": {},
   "source": [
    "문1.1) while문을 사용하여 1부터 1000까지의 정수 중 3의 배수에 해당하는 수들의 총합 add_result를 구하여 출력해보세요.\n"
   ]
  },
  {
   "cell_type": "code",
   "execution_count": 21,
   "id": "76da9aa6",
   "metadata": {},
   "outputs": [
    {
     "data": {
      "text/plain": [
       "166833"
      ]
     },
     "execution_count": 21,
     "metadata": {},
     "output_type": "execute_result"
    }
   ],
   "source": [
    "num = 0 \n",
    "add_result = 0 \n",
    "while (num <= 1000): \n",
    "    num = num+1\n",
    "    if (num%3 == 0):\n",
    "        add_result = add_result + num \n",
    "\n",
    "add_result\n",
    "    \n",
    "    \n",
    "    "
   ]
  },
  {
   "cell_type": "raw",
   "id": "3949fe5a",
   "metadata": {},
   "source": [
    "문1.2) while문을 사용하여 1부터 1000까지의 정수 중 3의 배수에 해당하는 수들의 총합 add_result를 구하여 출력해보세요. 이때 continue를 활용하여 수행되도록 하세요.\n"
   ]
  },
  {
   "cell_type": "code",
   "execution_count": 20,
   "id": "268071c1",
   "metadata": {},
   "outputs": [
    {
     "data": {
      "text/plain": [
       "166833"
      ]
     },
     "execution_count": 20,
     "metadata": {},
     "output_type": "execute_result"
    }
   ],
   "source": [
    "num = 0 \n",
    "add_result = 0 \n",
    "while (num <=1000): \n",
    "    num = num+1\n",
    "    if (num%3 != 0): continue\n",
    "    add_result = add_result + num \n",
    "\n",
    "add_result\n",
    "    "
   ]
  },
  {
   "cell_type": "markdown",
   "id": "fc2b7fe6",
   "metadata": {},
   "source": [
    "문1.3) while문을 사용하여 1부터 1000까지의 정수 중 3의 배수에 해당하는 수들의 총합 add_result를 구하여 출력해보세요. 이때 break를 활용하여 수행되도록 하세요.\n",
    "\n"
   ]
  },
  {
   "cell_type": "code",
   "execution_count": 29,
   "id": "fd773fb5",
   "metadata": {},
   "outputs": [
    {
     "data": {
      "text/plain": [
       "166833"
      ]
     },
     "execution_count": 29,
     "metadata": {},
     "output_type": "execute_result"
    }
   ],
   "source": [
    "num = 1\n",
    "add_result = 0 \n",
    "\n",
    "while (num > 0): \n",
    "    num = num+1\n",
    "    if (num%3 == 0): \n",
    "        add_result =add_result+num\n",
    "        if (num >= 999):\n",
    "            break\n",
    "\n",
    "add_result"
   ]
  },
  {
   "cell_type": "markdown",
   "id": "5d2fe11e",
   "metadata": {},
   "source": [
    "문2.1) numbers =[1, 2, 3, 4, 5, 6, 7, 8, 9, 10] 이 중에서 홀수에만 7를 곱하여 result라는 리스트에 저장해보세요."
   ]
  },
  {
   "cell_type": "code",
   "execution_count": 25,
   "id": "bfcbdcab",
   "metadata": {},
   "outputs": [
    {
     "data": {
      "text/plain": [
       "[7, 21, 35, 49, 63]"
      ]
     },
     "execution_count": 25,
     "metadata": {},
     "output_type": "execute_result"
    }
   ],
   "source": [
    "numbers =[1, 2, 3, 4, 5, 6, 7, 8, 9, 10]\n",
    "result= []\n",
    "for i in numbers:\n",
    "    if (i%2 !=0):\n",
    "        result.append(i*7)\n",
    "        \n",
    "result\n"
   ]
  },
  {
   "cell_type": "markdown",
   "id": "16c16c0a",
   "metadata": {},
   "source": [
    "문2.2) numbers =[1, 2, 3, 4, 5, 6, 7, 8, 9, 10] 이 중에서 홀수에만 7를 곱하여 result라는 리스트에 저장해보세요. 이때 리스트 내포를 활용하여 작성해보세요."
   ]
  },
  {
   "cell_type": "code",
   "execution_count": 26,
   "id": "ec480582",
   "metadata": {},
   "outputs": [
    {
     "data": {
      "text/plain": [
       "[7, 21, 35, 49, 63]"
      ]
     },
     "execution_count": 26,
     "metadata": {},
     "output_type": "execute_result"
    }
   ],
   "source": [
    "numbers =[1, 2, 3, 4, 5, 6, 7, 8, 9, 10]\n",
    "result= [i*7 for i in numbers if i%2 !=0]\n",
    "result"
   ]
  },
  {
   "cell_type": "code",
   "execution_count": null,
   "id": "c02efd69",
   "metadata": {},
   "outputs": [],
   "source": []
  }
 ],
 "metadata": {
  "kernelspec": {
   "display_name": "Python 3 (ipykernel)",
   "language": "python",
   "name": "python3"
  },
  "language_info": {
   "codemirror_mode": {
    "name": "ipython",
    "version": 3
   },
   "file_extension": ".py",
   "mimetype": "text/x-python",
   "name": "python",
   "nbconvert_exporter": "python",
   "pygments_lexer": "ipython3",
   "version": "3.9.10"
  }
 },
 "nbformat": 4,
 "nbformat_minor": 5
}
