{
 "cells": [
  {
   "cell_type": "markdown",
   "id": "dbeb36d0",
   "metadata": {},
   "source": [
    "# 함수 만들기\n"
   ]
  },
  {
   "cell_type": "code",
   "execution_count": 4,
   "id": "91bf9a0a",
   "metadata": {},
   "outputs": [],
   "source": [
    "result = 0 \n",
    "\n",
    "def add(num) :\n",
    "    global result \n",
    "    result += num \n",
    "    \n",
    "    return result \n",
    "\n"
   ]
  },
  {
   "cell_type": "code",
   "execution_count": 7,
   "id": "ea8df2a7",
   "metadata": {},
   "outputs": [
    {
     "name": "stdout",
     "output_type": "stream",
     "text": [
      "9\n",
      "12\n"
     ]
    }
   ],
   "source": [
    "print(add(3))\n",
    "\n",
    "print(add(3))"
   ]
  },
  {
   "cell_type": "code",
   "execution_count": 10,
   "id": "117eb711",
   "metadata": {},
   "outputs": [
    {
     "name": "stdout",
     "output_type": "stream",
     "text": [
      "3\n",
      "3\n"
     ]
    }
   ],
   "source": [
    "result1 = 0\n",
    "result2 = 0\n",
    "\n",
    "\n",
    "def add1(num) :\n",
    "    global result1 \n",
    "    result1 += num \n",
    "    \n",
    "    return result1\n",
    "\n",
    "def add2(num) :\n",
    "    global result2\n",
    "    result2 += num \n",
    "    \n",
    "    return result2\n",
    "\n",
    "\n",
    "print(add1(3))\n",
    "\n",
    "print(add2(3))\n",
    "\n"
   ]
  },
  {
   "cell_type": "markdown",
   "id": "1a613a10",
   "metadata": {},
   "source": [
    "## 클래스 \n",
    "\n",
    "## class 사용이 간편하고  코드 재사용이 편하고 독립적으로 실행도 모두 가능하다\n",
    "## 같은연산의 함수를 또 만들필요가없다"
   ]
  },
  {
   "cell_type": "code",
   "execution_count": null,
   "id": "6d7c9cd9",
   "metadata": {},
   "outputs": [],
   "source": [
    "class Calculation : \n",
    "\n",
    "    pass \n",
    "\n",
    "\n",
    "\n",
    "a = Calculation()\n",
    "\n",
    "\n",
    "b = Calculation()\n"
   ]
  },
  {
   "cell_type": "code",
   "execution_count": 48,
   "id": "3183c069",
   "metadata": {},
   "outputs": [],
   "source": [
    "class FourCal: \n",
    "    \n",
    "    def setdata(self , first ,second) : #first second 2개의 숫자 받아오기 \n",
    "        self.first = first \n",
    "        self.second = second\n",
    "    \n",
    "    def add(self):\n",
    "        reesult = self.first + self.second \n",
    "        return result\n",
    "    \n",
    "    def mul(self):\n",
    "        reesult = self.first*self.second \n",
    "        return result\n",
    "            \n",
    "    def sub(self):\n",
    "        reesult = self.first-self.second \n",
    "        return result\n",
    "            \n",
    "    def div(self):\n",
    "        reesult = self.first/self.second \n",
    "        return result"
   ]
  },
  {
   "cell_type": "code",
   "execution_count": 60,
   "id": "84e0e7e3",
   "metadata": {},
   "outputs": [],
   "source": [
    "c.setdata(5,55)"
   ]
  },
  {
   "cell_type": "code",
   "execution_count": 53,
   "id": "74c739b2",
   "metadata": {},
   "outputs": [
    {
     "data": {
      "text/plain": [
       "<bound method FourCal.add of <__main__.FourCal object at 0x118bb6520>>"
      ]
     },
     "execution_count": 53,
     "metadata": {},
     "output_type": "execute_result"
    }
   ],
   "source": [
    "c.add"
   ]
  },
  {
   "cell_type": "markdown",
   "id": "f6f9f54e",
   "metadata": {},
   "source": [
    "## self 객체가 무엇인지 알아보자"
   ]
  },
  {
   "cell_type": "code",
   "execution_count": 14,
   "id": "bf8632a4",
   "metadata": {},
   "outputs": [
    {
     "data": {
      "text/plain": [
       "2"
      ]
     },
     "execution_count": 14,
     "metadata": {},
     "output_type": "execute_result"
    }
   ],
   "source": [
    "a = FourCal ()\n",
    "\n",
    "a.setdata(1,2) ## 2개의 숫자 입력 3개의 숫자가아니여도 사용 가능한함수 \n",
    "\n",
    "a.first \n",
    "a.second\n"
   ]
  },
  {
   "cell_type": "code",
   "execution_count": 16,
   "id": "226b6eb1",
   "metadata": {},
   "outputs": [],
   "source": [
    "b = FourCal()"
   ]
  },
  {
   "cell_type": "code",
   "execution_count": 19,
   "id": "c2d17f07",
   "metadata": {},
   "outputs": [
    {
     "name": "stdout",
     "output_type": "stream",
     "text": [
      "3\n",
      "4\n"
     ]
    }
   ],
   "source": [
    "b.setdata(3,4)\n",
    "\n",
    "print(b.first)\n",
    "print(b.second)"
   ]
  },
  {
   "cell_type": "markdown",
   "id": "166c2cc9",
   "metadata": {},
   "source": [
    "# 생성자 추가해서 만들기"
   ]
  },
  {
   "cell_type": "code",
   "execution_count": 1,
   "id": "7f0bc127",
   "metadata": {},
   "outputs": [],
   "source": [
    ">>> class FourCal:\n",
    "...     def __init__(self, first, second):\n",
    "...         self.first = first\n",
    "...         self.second = second\n",
    "...     def setdata(self, first, second):\n",
    "...         self.first = first\n",
    "...         self.second = second\n",
    "...     def add(self):\n",
    "...         result = self.first + self.second\n",
    "...         return result\n",
    "...     def mul(self):\n",
    "...         result = self.first * self.second\n",
    "...         return result\n",
    "...     def sub(self):\n",
    "...         result = self.first - self.second\n",
    "...         return result\n",
    "...     def div(self):\n",
    "...         result = self.first / self.second\n",
    "...         return result\n",
    "..."
   ]
  },
  {
   "cell_type": "code",
   "execution_count": 2,
   "id": "46f5197f",
   "metadata": {},
   "outputs": [],
   "source": [
    "c = FourCal(4,2)"
   ]
  },
  {
   "cell_type": "code",
   "execution_count": 9,
   "id": "eaa6a461",
   "metadata": {},
   "outputs": [
    {
     "data": {
      "text/plain": [
       "4"
      ]
     },
     "execution_count": 9,
     "metadata": {},
     "output_type": "execute_result"
    }
   ],
   "source": [
    "c.first"
   ]
  },
  {
   "cell_type": "code",
   "execution_count": 5,
   "id": "03c6c818",
   "metadata": {},
   "outputs": [
    {
     "data": {
      "text/plain": [
       "2"
      ]
     },
     "execution_count": 5,
     "metadata": {},
     "output_type": "execute_result"
    }
   ],
   "source": [
    "c.second"
   ]
  },
  {
   "cell_type": "code",
   "execution_count": 11,
   "id": "90338336",
   "metadata": {},
   "outputs": [
    {
     "data": {
      "text/plain": [
       "6"
      ]
     },
     "execution_count": 11,
     "metadata": {},
     "output_type": "execute_result"
    }
   ],
   "source": [
    "c.add()"
   ]
  },
  {
   "cell_type": "markdown",
   "id": "1983fade",
   "metadata": {},
   "source": [
    "# 클래스 상속하기"
   ]
  },
  {
   "cell_type": "code",
   "execution_count": 12,
   "id": "b9129475",
   "metadata": {},
   "outputs": [],
   "source": [
    "class MoreFourCal(FourCal):\n",
    "...     pass"
   ]
  },
  {
   "cell_type": "code",
   "execution_count": 13,
   "id": "0e3779dc",
   "metadata": {},
   "outputs": [],
   "source": [
    "a = MoreFourCal(4,2)"
   ]
  },
  {
   "cell_type": "code",
   "execution_count": 14,
   "id": "ccbe4445",
   "metadata": {},
   "outputs": [
    {
     "data": {
      "text/plain": [
       "6"
      ]
     },
     "execution_count": 14,
     "metadata": {},
     "output_type": "execute_result"
    }
   ],
   "source": [
    "a.add()"
   ]
  },
  {
   "cell_type": "code",
   "execution_count": 15,
   "id": "e63727c2",
   "metadata": {},
   "outputs": [],
   "source": [
    ">>> class MoreFourCal(FourCal):\n",
    "...     def pow(self):\n",
    "...         result = self.first ** self.second\n",
    "...         return result\n",
    "..."
   ]
  },
  {
   "cell_type": "code",
   "execution_count": 19,
   "id": "8dea2145",
   "metadata": {},
   "outputs": [],
   "source": [
    "a = MoreFourCal(4,2) ## 기능을추가해서 실행할수 있다 "
   ]
  },
  {
   "cell_type": "code",
   "execution_count": 20,
   "id": "733586ca",
   "metadata": {},
   "outputs": [
    {
     "data": {
      "text/plain": [
       "16"
      ]
     },
     "execution_count": 20,
     "metadata": {},
     "output_type": "execute_result"
    }
   ],
   "source": [
    "a.pow()"
   ]
  },
  {
   "cell_type": "markdown",
   "id": "d0e02392",
   "metadata": {},
   "source": [
    "# 오버라이딩 하는 방법 "
   ]
  },
  {
   "cell_type": "code",
   "execution_count": 21,
   "id": "69538011",
   "metadata": {},
   "outputs": [
    {
     "ename": "ZeroDivisionError",
     "evalue": "division by zero",
     "output_type": "error",
     "traceback": [
      "\u001b[0;31m---------------------------------------------------------------------------\u001b[0m",
      "\u001b[0;31mZeroDivisionError\u001b[0m                         Traceback (most recent call last)",
      "\u001b[0;32m/var/folders/ht/4d122qr50vs5jr5k781my7yr0000gn/T/ipykernel_13219/170369182.py\u001b[0m in \u001b[0;36m<module>\u001b[0;34m\u001b[0m\n\u001b[1;32m      1\u001b[0m \u001b[0ma\u001b[0m \u001b[0;34m=\u001b[0m \u001b[0mFourCal\u001b[0m\u001b[0;34m(\u001b[0m\u001b[0;36m4\u001b[0m\u001b[0;34m,\u001b[0m\u001b[0;36m0\u001b[0m\u001b[0;34m)\u001b[0m\u001b[0;34m\u001b[0m\u001b[0;34m\u001b[0m\u001b[0m\n\u001b[1;32m      2\u001b[0m \u001b[0;34m\u001b[0m\u001b[0m\n\u001b[0;32m----> 3\u001b[0;31m \u001b[0ma\u001b[0m\u001b[0;34m.\u001b[0m\u001b[0mdiv\u001b[0m\u001b[0;34m(\u001b[0m\u001b[0;34m)\u001b[0m\u001b[0;34m\u001b[0m\u001b[0;34m\u001b[0m\u001b[0m\n\u001b[0m",
      "\u001b[0;32m/var/folders/ht/4d122qr50vs5jr5k781my7yr0000gn/T/ipykernel_13219/3975899304.py\u001b[0m in \u001b[0;36mdiv\u001b[0;34m(self)\u001b[0m\n\u001b[1;32m     16\u001b[0m         \u001b[0;32mreturn\u001b[0m \u001b[0mresult\u001b[0m\u001b[0;34m\u001b[0m\u001b[0;34m\u001b[0m\u001b[0m\n\u001b[1;32m     17\u001b[0m     \u001b[0;32mdef\u001b[0m \u001b[0mdiv\u001b[0m\u001b[0;34m(\u001b[0m\u001b[0mself\u001b[0m\u001b[0;34m)\u001b[0m\u001b[0;34m:\u001b[0m\u001b[0;34m\u001b[0m\u001b[0;34m\u001b[0m\u001b[0m\n\u001b[0;32m---> 18\u001b[0;31m         \u001b[0mresult\u001b[0m \u001b[0;34m=\u001b[0m \u001b[0mself\u001b[0m\u001b[0;34m.\u001b[0m\u001b[0mfirst\u001b[0m \u001b[0;34m/\u001b[0m \u001b[0mself\u001b[0m\u001b[0;34m.\u001b[0m\u001b[0msecond\u001b[0m\u001b[0;34m\u001b[0m\u001b[0;34m\u001b[0m\u001b[0m\n\u001b[0m\u001b[1;32m     19\u001b[0m         \u001b[0;32mreturn\u001b[0m \u001b[0mresult\u001b[0m\u001b[0;34m\u001b[0m\u001b[0;34m\u001b[0m\u001b[0m\n\u001b[1;32m     20\u001b[0m \u001b[0;34m\u001b[0m\u001b[0m\n",
      "\u001b[0;31mZeroDivisionError\u001b[0m: division by zero"
     ]
    }
   ],
   "source": [
    "a = FourCal(4,0)\n",
    "\n",
    "a.div()"
   ]
  },
  {
   "cell_type": "code",
   "execution_count": 2,
   "id": "a5c6b72a",
   "metadata": {},
   "outputs": [],
   "source": [
    ">>> class MoreFourCal(FourCal):\n",
    "    def pow(self):\n",
    "        result = self.first ** self.second\n",
    "        return result\n",
    "    \n",
    "    def div(self):\n",
    "...         if self.second == 0:  # 나누는 값이 0인 경우 0을 리턴하도록 수정\n",
    "...             return 0\n",
    "...         else:\n",
    "...             return self.first / self.second\n",
    "         \n",
    "..."
   ]
  },
  {
   "cell_type": "code",
   "execution_count": 4,
   "id": "745159e7",
   "metadata": {},
   "outputs": [],
   "source": [
    "a = MoreFourCal(4,0)"
   ]
  },
  {
   "cell_type": "code",
   "execution_count": 5,
   "id": "511f5312",
   "metadata": {},
   "outputs": [
    {
     "data": {
      "text/plain": [
       "0"
      ]
     },
     "execution_count": 5,
     "metadata": {},
     "output_type": "execute_result"
    }
   ],
   "source": [
    "a.div()"
   ]
  },
  {
   "cell_type": "markdown",
   "id": "b710cdbf",
   "metadata": {},
   "source": [
    "# claa 안에 변수 넣어주기 "
   ]
  },
  {
   "cell_type": "code",
   "execution_count": 6,
   "id": "70ceda33",
   "metadata": {},
   "outputs": [],
   "source": [
    "class Family : \n",
    "    lastname = '이'\n",
    "    \n"
   ]
  },
  {
   "cell_type": "code",
   "execution_count": 7,
   "id": "1b2da495",
   "metadata": {},
   "outputs": [
    {
     "data": {
      "text/plain": [
       "'이'"
      ]
     },
     "execution_count": 7,
     "metadata": {},
     "output_type": "execute_result"
    }
   ],
   "source": [
    "Family.lastname"
   ]
  },
  {
   "cell_type": "code",
   "execution_count": 8,
   "id": "dc4eda3d",
   "metadata": {},
   "outputs": [],
   "source": [
    "a = Family() ## 함수 사용하듯이 class 사용 가능하다 . "
   ]
  },
  {
   "cell_type": "code",
   "execution_count": 9,
   "id": "53b57d52",
   "metadata": {},
   "outputs": [
    {
     "data": {
      "text/plain": [
       "'이'"
      ]
     },
     "execution_count": 9,
     "metadata": {},
     "output_type": "execute_result"
    }
   ],
   "source": [
    "a.lastname"
   ]
  },
  {
   "cell_type": "markdown",
   "id": "abcc8d16",
   "metadata": {},
   "source": [
    "# 모듈넣어보기"
   ]
  },
  {
   "cell_type": "code",
   "execution_count": 10,
   "id": "28b06823",
   "metadata": {},
   "outputs": [
    {
     "ename": "ModuleNotFoundError",
     "evalue": "No module named 'mod1'",
     "output_type": "error",
     "traceback": [
      "\u001b[0;31m---------------------------------------------------------------------------\u001b[0m",
      "\u001b[0;31mModuleNotFoundError\u001b[0m                       Traceback (most recent call last)",
      "\u001b[0;32m/var/folders/ht/4d122qr50vs5jr5k781my7yr0000gn/T/ipykernel_15977/2788564688.py\u001b[0m in \u001b[0;36m<module>\u001b[0;34m\u001b[0m\n\u001b[0;32m----> 1\u001b[0;31m \u001b[0;32mimport\u001b[0m \u001b[0mmod1\u001b[0m\u001b[0;34m\u001b[0m\u001b[0;34m\u001b[0m\u001b[0m\n\u001b[0m\u001b[1;32m      2\u001b[0m \u001b[0;34m\u001b[0m\u001b[0m\n\u001b[1;32m      3\u001b[0m \u001b[0mmod1\u001b[0m\u001b[0;34m.\u001b[0m\u001b[0madd\u001b[0m\u001b[0;34m(\u001b[0m\u001b[0;36m3\u001b[0m\u001b[0;34m,\u001b[0m\u001b[0;36m4\u001b[0m\u001b[0;34m)\u001b[0m\u001b[0;34m\u001b[0m\u001b[0;34m\u001b[0m\u001b[0m\n\u001b[1;32m      4\u001b[0m \u001b[0mmod2\u001b[0m\u001b[0;34m.\u001b[0m\u001b[0msub\u001b[0m\u001b[0;34m(\u001b[0m\u001b[0;36m4\u001b[0m\u001b[0;34m,\u001b[0m\u001b[0;36m2\u001b[0m\u001b[0;34m)\u001b[0m\u001b[0;34m\u001b[0m\u001b[0;34m\u001b[0m\u001b[0m\n",
      "\u001b[0;31mModuleNotFoundError\u001b[0m: No module named 'mod1'"
     ]
    }
   ],
   "source": [
    "import mod1\n",
    "\n",
    "mod1.add(3,4)\n",
    "mod2.sub(4,2)\n"
   ]
  },
  {
   "cell_type": "markdown",
   "id": "d466dfd1",
   "metadata": {},
   "source": [
    "# matplotlib "
   ]
  },
  {
   "cell_type": "code",
   "execution_count": 11,
   "id": "b037e9ba",
   "metadata": {},
   "outputs": [],
   "source": [
    "import matplotlib.pyplot as plt "
   ]
  },
  {
   "cell_type": "code",
   "execution_count": 12,
   "id": "339594b7",
   "metadata": {},
   "outputs": [
    {
     "ename": "FileNotFoundError",
     "evalue": "[Errno 2] No such file or directory: '없는 파일'",
     "output_type": "error",
     "traceback": [
      "\u001b[0;31m---------------------------------------------------------------------------\u001b[0m",
      "\u001b[0;31mFileNotFoundError\u001b[0m                         Traceback (most recent call last)",
      "\u001b[0;32m/var/folders/ht/4d122qr50vs5jr5k781my7yr0000gn/T/ipykernel_15977/3546325132.py\u001b[0m in \u001b[0;36m<module>\u001b[0;34m\u001b[0m\n\u001b[0;32m----> 1\u001b[0;31m \u001b[0mf\u001b[0m \u001b[0;34m=\u001b[0m \u001b[0mopen\u001b[0m\u001b[0;34m(\u001b[0m\u001b[0;34m\"없는 파일\"\u001b[0m\u001b[0;34m,\u001b[0m \u001b[0;34m'r'\u001b[0m\u001b[0;34m)\u001b[0m\u001b[0;34m\u001b[0m\u001b[0;34m\u001b[0m\u001b[0m\n\u001b[0m",
      "\u001b[0;31mFileNotFoundError\u001b[0m: [Errno 2] No such file or directory: '없는 파일'"
     ]
    }
   ],
   "source": [
    "f = open(\"없는 파일\", 'r')"
   ]
  },
  {
   "cell_type": "code",
   "execution_count": 13,
   "id": "eaad196c",
   "metadata": {},
   "outputs": [
    {
     "ename": "IndexError",
     "evalue": "list index out of range",
     "output_type": "error",
     "traceback": [
      "\u001b[0;31m---------------------------------------------------------------------------\u001b[0m",
      "\u001b[0;31mIndexError\u001b[0m                                Traceback (most recent call last)",
      "\u001b[0;32m/var/folders/ht/4d122qr50vs5jr5k781my7yr0000gn/T/ipykernel_15977/324253399.py\u001b[0m in \u001b[0;36m<module>\u001b[0;34m\u001b[0m\n\u001b[1;32m      1\u001b[0m \u001b[0ma\u001b[0m \u001b[0;34m=\u001b[0m \u001b[0;34m[\u001b[0m\u001b[0;36m1\u001b[0m\u001b[0;34m,\u001b[0m\u001b[0;36m2\u001b[0m\u001b[0;34m,\u001b[0m\u001b[0;36m3\u001b[0m\u001b[0;34m]\u001b[0m\u001b[0;34m\u001b[0m\u001b[0;34m\u001b[0m\u001b[0m\n\u001b[0;32m----> 2\u001b[0;31m \u001b[0ma\u001b[0m \u001b[0;34m[\u001b[0m\u001b[0;36m3\u001b[0m\u001b[0;34m]\u001b[0m\u001b[0;34m\u001b[0m\u001b[0;34m\u001b[0m\u001b[0m\n\u001b[0m",
      "\u001b[0;31mIndexError\u001b[0m: list index out of range"
     ]
    }
   ],
   "source": [
    "a = [1,2,3]\n",
    "a [3]"
   ]
  },
  {
   "cell_type": "code",
   "execution_count": 24,
   "id": "42044d3a",
   "metadata": {},
   "outputs": [
    {
     "name": "stdout",
     "output_type": "stream",
     "text": [
      "1.0\n"
     ]
    }
   ],
   "source": [
    "n = 5\n",
    "try : \n",
    "    while n <= 0 : \n",
    "        n -= 1\n",
    "    print(5/n)\n",
    "\n",
    "except ZeroDivisionError as e : \n",
    "        print(e)"
   ]
  },
  {
   "cell_type": "code",
   "execution_count": 20,
   "id": "c5710725",
   "metadata": {},
   "outputs": [
    {
     "name": "stdout",
     "output_type": "stream",
     "text": [
      "-5.0\n"
     ]
    }
   ],
   "source": [
    "n = 5\n",
    "try : \n",
    "    while n >= 0 : \n",
    "        n -= 1\n",
    "    print(5/n)\n",
    "\n",
    "except ZeroDivisionError : \n",
    "    pass \n"
   ]
  },
  {
   "cell_type": "code",
   "execution_count": 26,
   "id": "9421a9cc",
   "metadata": {},
   "outputs": [
    {
     "data": {
      "text/plain": [
       "7"
      ]
     },
     "execution_count": 26,
     "metadata": {},
     "output_type": "execute_result"
    }
   ],
   "source": [
    "abs(-5-2)"
   ]
  },
  {
   "cell_type": "code",
   "execution_count": 28,
   "id": "00b0ba86",
   "metadata": {},
   "outputs": [],
   "source": [
    "import time"
   ]
  },
  {
   "cell_type": "markdown",
   "id": "e01f5545",
   "metadata": {},
   "source": [
    "# 모듈 import "
   ]
  },
  {
   "cell_type": "code",
   "execution_count": 29,
   "id": "deb96cd4",
   "metadata": {},
   "outputs": [],
   "source": [
    "import numpy as np \n",
    "import pandas as pd"
   ]
  },
  {
   "cell_type": "code",
   "execution_count": null,
   "id": "582831f9",
   "metadata": {},
   "outputs": [],
   "source": []
  }
 ],
 "metadata": {
  "kernelspec": {
   "display_name": "Python 3 (ipykernel)",
   "language": "python",
   "name": "python3"
  },
  "language_info": {
   "codemirror_mode": {
    "name": "ipython",
    "version": 3
   },
   "file_extension": ".py",
   "mimetype": "text/x-python",
   "name": "python",
   "nbconvert_exporter": "python",
   "pygments_lexer": "ipython3",
   "version": "3.9.10"
  }
 },
 "nbformat": 4,
 "nbformat_minor": 5
}
