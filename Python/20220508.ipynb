{
 "cells": [
  {
   "cell_type": "markdown",
   "id": "3f6f44cb",
   "metadata": {},
   "source": [
    "# 함수만들기"
   ]
  },
  {
   "cell_type": "code",
   "execution_count": null,
   "id": "56172b28",
   "metadata": {},
   "outputs": [],
   "source": []
  },
  {
   "cell_type": "code",
   "execution_count": null,
   "id": "f9ea8748",
   "metadata": {},
   "outputs": [],
   "source": []
  },
  {
   "cell_type": "code",
   "execution_count": null,
   "id": "b735d9ef",
   "metadata": {},
   "outputs": [],
   "source": [
    "def add (a,b): \n",
    "    return a + b "
   ]
  },
  {
   "cell_type": "code",
   "execution_count": 2,
   "id": "a90f18c5",
   "metadata": {},
   "outputs": [
    {
     "data": {
      "text/plain": [
       "4"
      ]
     },
     "execution_count": 2,
     "metadata": {},
     "output_type": "execute_result"
    }
   ],
   "source": [
    "add (1,3)"
   ]
  },
  {
   "cell_type": "markdown",
   "id": "29b53dd0",
   "metadata": {},
   "source": [
    "# 함수로 덧셈만들기"
   ]
  },
  {
   "cell_type": "code",
   "execution_count": 127,
   "id": "eda85a37",
   "metadata": {},
   "outputs": [
    {
     "data": {
      "text/plain": [
       "7"
      ]
     },
     "execution_count": 127,
     "metadata": {},
     "output_type": "execute_result"
    }
   ],
   "source": [
    "i = 3 \n",
    "j = 4 \n",
    "\n",
    "add(i,j)"
   ]
  },
  {
   "cell_type": "code",
   "execution_count": 125,
   "id": "4b0f83cc",
   "metadata": {},
   "outputs": [
    {
     "ename": "TypeError",
     "evalue": "<lambda>() takes 2 positional arguments but 3 were given",
     "output_type": "error",
     "traceback": [
      "\u001b[0;31m---------------------------------------------------------------------------\u001b[0m",
      "\u001b[0;31mTypeError\u001b[0m                                 Traceback (most recent call last)",
      "\u001b[0;32m/var/folders/ht/4d122qr50vs5jr5k781my7yr0000gn/T/ipykernel_12463/1642059563.py\u001b[0m in \u001b[0;36m<module>\u001b[0;34m\u001b[0m\n\u001b[0;32m----> 1\u001b[0;31m \u001b[0madd\u001b[0m\u001b[0;34m(\u001b[0m \u001b[0;36m1\u001b[0m\u001b[0;34m,\u001b[0m \u001b[0;36m2\u001b[0m \u001b[0;34m,\u001b[0m \u001b[0;36m3\u001b[0m\u001b[0;34m)\u001b[0m\u001b[0;34m\u001b[0m\u001b[0;34m\u001b[0m\u001b[0m\n\u001b[0m",
      "\u001b[0;31mTypeError\u001b[0m: <lambda>() takes 2 positional arguments but 3 were given"
     ]
    }
   ],
   "source": [
    "add( 1, 2 , 3)"
   ]
  },
  {
   "cell_type": "code",
   "execution_count": 126,
   "id": "88337e54",
   "metadata": {},
   "outputs": [],
   "source": [
    "def add (a,b):\n",
    "    result = a+b\n",
    "    return result"
   ]
  },
  {
   "cell_type": "code",
   "execution_count": 11,
   "id": "93821342",
   "metadata": {},
   "outputs": [],
   "source": [
    "def say():\n",
    "    return 'Hi'"
   ]
  },
  {
   "cell_type": "code",
   "execution_count": 12,
   "id": "ccd56ab6",
   "metadata": {},
   "outputs": [
    {
     "data": {
      "text/plain": [
       "'Hi'"
      ]
     },
     "execution_count": 12,
     "metadata": {},
     "output_type": "execute_result"
    }
   ],
   "source": [
    "say()"
   ]
  },
  {
   "cell_type": "code",
   "execution_count": 13,
   "id": "90743956",
   "metadata": {},
   "outputs": [
    {
     "name": "stdout",
     "output_type": "stream",
     "text": [
      "Hi\n"
     ]
    }
   ],
   "source": [
    "a = say()\n",
    "print(a)"
   ]
  },
  {
   "cell_type": "code",
   "execution_count": 16,
   "id": "ffef4cfc",
   "metadata": {},
   "outputs": [],
   "source": [
    "def add (a,b): \n",
    "    print(\"%d,%d의 합은 %d이다\" %(a,b,a+b) )"
   ]
  },
  {
   "cell_type": "code",
   "execution_count": 17,
   "id": "2ad1fcc1",
   "metadata": {},
   "outputs": [
    {
     "name": "stdout",
     "output_type": "stream",
     "text": [
      "3,4의 합은 7이다\n"
     ]
    }
   ],
   "source": [
    "add (3,4)"
   ]
  },
  {
   "cell_type": "code",
   "execution_count": 18,
   "id": "9d32653f",
   "metadata": {},
   "outputs": [],
   "source": [
    "def say():\n",
    "    print('Hi')"
   ]
  },
  {
   "cell_type": "code",
   "execution_count": 19,
   "id": "24760006",
   "metadata": {},
   "outputs": [
    {
     "name": "stdout",
     "output_type": "stream",
     "text": [
      "Hi\n"
     ]
    }
   ],
   "source": [
    "say()"
   ]
  },
  {
   "cell_type": "code",
   "execution_count": 20,
   "id": "2d00f904",
   "metadata": {},
   "outputs": [
    {
     "name": "stdout",
     "output_type": "stream",
     "text": [
      "Hi\n",
      "None\n"
     ]
    }
   ],
   "source": [
    "a =say()\n",
    "print(a)"
   ]
  },
  {
   "cell_type": "code",
   "execution_count": 21,
   "id": "09469fa9",
   "metadata": {},
   "outputs": [],
   "source": [
    "def add (a,b):\n",
    "    result = a+b\n",
    "    return result \n"
   ]
  },
  {
   "cell_type": "code",
   "execution_count": 22,
   "id": "0acdf19a",
   "metadata": {},
   "outputs": [
    {
     "name": "stdout",
     "output_type": "stream",
     "text": [
      "7\n"
     ]
    }
   ],
   "source": [
    "a = add(3,4)\n",
    "print(a)"
   ]
  },
  {
   "cell_type": "code",
   "execution_count": 29,
   "id": "b20350d2",
   "metadata": {},
   "outputs": [],
   "source": [
    "def minus(a,b):\n",
    "    result = a - b\n",
    "    return result "
   ]
  },
  {
   "cell_type": "code",
   "execution_count": 30,
   "id": "90c589ff",
   "metadata": {},
   "outputs": [
    {
     "name": "stdout",
     "output_type": "stream",
     "text": [
      "5\n"
     ]
    }
   ],
   "source": [
    "result = minus(7,2)\n",
    "print(result)"
   ]
  },
  {
   "cell_type": "code",
   "execution_count": 31,
   "id": "7a6d9719",
   "metadata": {},
   "outputs": [
    {
     "name": "stdout",
     "output_type": "stream",
     "text": [
      "5\n"
     ]
    }
   ],
   "source": [
    "reusult = minus(a= 2,b=7)\n",
    "print(result)"
   ]
  },
  {
   "cell_type": "code",
   "execution_count": null,
   "id": "a6a4fe8d",
   "metadata": {},
   "outputs": [],
   "source": []
  },
  {
   "cell_type": "code",
   "execution_count": null,
   "id": "d66863c6",
   "metadata": {},
   "outputs": [],
   "source": []
  },
  {
   "cell_type": "markdown",
   "id": "9587f753",
   "metadata": {},
   "source": [
    "reusult = minus(b=7,a=2)\n",
    "print(result)"
   ]
  },
  {
   "cell_type": "markdown",
   "id": "e5c6298c",
   "metadata": {},
   "source": [
    "# 모두더하기 "
   ]
  },
  {
   "cell_type": "code",
   "execution_count": 41,
   "id": "51859e34",
   "metadata": {},
   "outputs": [],
   "source": [
    "def add_all(*args): \n",
    "    result = 0 \n",
    "    for i in args: \n",
    "        result += i\n",
    "        \n",
    "    return result"
   ]
  },
  {
   "cell_type": "code",
   "execution_count": 42,
   "id": "f193c3dd",
   "metadata": {},
   "outputs": [
    {
     "data": {
      "text/plain": [
       "6"
      ]
     },
     "execution_count": 42,
     "metadata": {},
     "output_type": "execute_result"
    }
   ],
   "source": [
    "add_all(1,2,3)"
   ]
  },
  {
   "cell_type": "code",
   "execution_count": 43,
   "id": "bba7ce78",
   "metadata": {},
   "outputs": [
    {
     "data": {
      "text/plain": [
       "21"
      ]
     },
     "execution_count": 43,
     "metadata": {},
     "output_type": "execute_result"
    }
   ],
   "source": [
    "add_all(1,2,3,4,5,6)"
   ]
  },
  {
   "cell_type": "code",
   "execution_count": 44,
   "id": "caed1794",
   "metadata": {},
   "outputs": [
    {
     "data": {
      "text/plain": [
       "15"
      ]
     },
     "execution_count": 44,
     "metadata": {},
     "output_type": "execute_result"
    }
   ],
   "source": [
    "add_all(1,2,3,4,5)"
   ]
  },
  {
   "cell_type": "markdown",
   "id": "d976fd23",
   "metadata": {},
   "source": [
    "# 더하기 곱하기 함수"
   ]
  },
  {
   "cell_type": "code",
   "execution_count": 128,
   "id": "e62a1399",
   "metadata": {},
   "outputs": [],
   "source": [
    "def add_mul(choice , *args): \n",
    "    if choice == \"add\":\n",
    "        result = 0 \n",
    "        for i in args : \n",
    "            result += i\n",
    "    elif choice == \"mul\":\n",
    "        result  = 1 \n",
    "        for i in args : \n",
    "            result *= i \n",
    "    return result "
   ]
  },
  {
   "cell_type": "code",
   "execution_count": 48,
   "id": "6afc7bdf",
   "metadata": {},
   "outputs": [
    {
     "data": {
      "text/plain": [
       "15"
      ]
     },
     "execution_count": 48,
     "metadata": {},
     "output_type": "execute_result"
    }
   ],
   "source": [
    "add_mul('add', 1,2,3,4,5)"
   ]
  },
  {
   "cell_type": "code",
   "execution_count": 49,
   "id": "4659e81c",
   "metadata": {},
   "outputs": [
    {
     "data": {
      "text/plain": [
       "120"
      ]
     },
     "execution_count": 49,
     "metadata": {},
     "output_type": "execute_result"
    }
   ],
   "source": [
    "add_mul('mul',1,2,3,4,5)"
   ]
  },
  {
   "cell_type": "code",
   "execution_count": 50,
   "id": "9bf5fb80",
   "metadata": {},
   "outputs": [],
   "source": [
    "def add_and_mul(a,b) : \n",
    "    return a+b ,a*b"
   ]
  },
  {
   "cell_type": "code",
   "execution_count": 53,
   "id": "345901bb",
   "metadata": {},
   "outputs": [],
   "source": [
    "result = add_and_mul(3,4)"
   ]
  },
  {
   "cell_type": "code",
   "execution_count": 54,
   "id": "d4409ce1",
   "metadata": {},
   "outputs": [
    {
     "name": "stdout",
     "output_type": "stream",
     "text": [
      "(7, 12)\n"
     ]
    }
   ],
   "source": [
    "print(result)"
   ]
  },
  {
   "cell_type": "code",
   "execution_count": 55,
   "id": "d3007416",
   "metadata": {},
   "outputs": [],
   "source": [
    "add_result, mul_result = add_and_mul(3,4)"
   ]
  },
  {
   "cell_type": "code",
   "execution_count": 56,
   "id": "3bccf212",
   "metadata": {},
   "outputs": [
    {
     "data": {
      "text/plain": [
       "7"
      ]
     },
     "execution_count": 56,
     "metadata": {},
     "output_type": "execute_result"
    }
   ],
   "source": [
    "add_result"
   ]
  },
  {
   "cell_type": "code",
   "execution_count": 57,
   "id": "598e07a4",
   "metadata": {},
   "outputs": [
    {
     "data": {
      "text/plain": [
       "12"
      ]
     },
     "execution_count": 57,
     "metadata": {},
     "output_type": "execute_result"
    }
   ],
   "source": [
    "mul_result"
   ]
  },
  {
   "cell_type": "code",
   "execution_count": 58,
   "id": "492e2206",
   "metadata": {},
   "outputs": [],
   "source": [
    "def add_and_mul (a,b): \n",
    "    return a+b\n",
    "    return a*b"
   ]
  },
  {
   "cell_type": "code",
   "execution_count": 59,
   "id": "2b860a4d",
   "metadata": {},
   "outputs": [
    {
     "data": {
      "text/plain": [
       "7"
      ]
     },
     "execution_count": 59,
     "metadata": {},
     "output_type": "execute_result"
    }
   ],
   "source": [
    "add_and_mul(3,4)"
   ]
  },
  {
   "cell_type": "code",
   "execution_count": 60,
   "id": "dcb04693",
   "metadata": {},
   "outputs": [],
   "source": [
    "def say_a_b(ab) : \n",
    "    if ab == 'a':\n",
    "        return 'A'\n",
    "    print(\"You say b!\")"
   ]
  },
  {
   "cell_type": "code",
   "execution_count": 61,
   "id": "78a4c74e",
   "metadata": {},
   "outputs": [
    {
     "name": "stdout",
     "output_type": "stream",
     "text": [
      "A\n"
     ]
    }
   ],
   "source": [
    "print(say_a_b('a'))"
   ]
  },
  {
   "cell_type": "code",
   "execution_count": 62,
   "id": "eddde98a",
   "metadata": {},
   "outputs": [
    {
     "name": "stdout",
     "output_type": "stream",
     "text": [
      "You say b!\n",
      "None\n"
     ]
    }
   ],
   "source": [
    "print(say_a_b('b'))"
   ]
  },
  {
   "cell_type": "code",
   "execution_count": 72,
   "id": "94cd513f",
   "metadata": {},
   "outputs": [],
   "source": [
    "def say_mself(name , age , mf = True):\n",
    "    print(\"내이름은 %s입니다 \" % name)\n",
    "    print(\"나이는 %d살입니다\" % age)\n",
    "    if mf: \n",
    "        print(\"여자입니다\")\n",
    "    else: \n",
    "        print(\"남자입니다\")"
   ]
  },
  {
   "cell_type": "code",
   "execution_count": 74,
   "id": "b2679aa6",
   "metadata": {},
   "outputs": [
    {
     "name": "stdout",
     "output_type": "stream",
     "text": [
      "내이름은 aaa입니다 \n",
      "나이는 20살입니다\n",
      "여자입니다\n"
     ]
    }
   ],
   "source": [
    "say_mself(\"aaa\",20 )"
   ]
  },
  {
   "cell_type": "code",
   "execution_count": 73,
   "id": "c3e786e2",
   "metadata": {},
   "outputs": [
    {
     "name": "stdout",
     "output_type": "stream",
     "text": [
      "내이름은 bbb입니다 \n",
      "나이는 20살입니다\n",
      "남자입니다\n"
     ]
    }
   ],
   "source": [
    "say_mself(\"bbb\",20, mf = False)"
   ]
  },
  {
   "cell_type": "code",
   "execution_count": 75,
   "id": "8a40e700",
   "metadata": {},
   "outputs": [
    {
     "name": "stdout",
     "output_type": "stream",
     "text": [
      "2\n"
     ]
    }
   ],
   "source": [
    "a = 1 \n",
    "\n",
    "def vartest(a): \n",
    "    a += 1\n",
    "    return a \n",
    "\n",
    "a = vartest(a)\n",
    "print (a)"
   ]
  },
  {
   "cell_type": "code",
   "execution_count": 76,
   "id": "4088d97e",
   "metadata": {},
   "outputs": [
    {
     "name": "stdout",
     "output_type": "stream",
     "text": [
      "3\n"
     ]
    }
   ],
   "source": [
    "a = vartest(a)\n",
    "print(a)"
   ]
  },
  {
   "cell_type": "code",
   "execution_count": 77,
   "id": "e1c595de",
   "metadata": {},
   "outputs": [],
   "source": [
    "a = 1 \n",
    "def vartest() : \n",
    "    global a \n",
    "    a += 1 \n",
    "    "
   ]
  },
  {
   "cell_type": "code",
   "execution_count": 78,
   "id": "744cb7e8",
   "metadata": {},
   "outputs": [],
   "source": [
    "vartest()"
   ]
  },
  {
   "cell_type": "code",
   "execution_count": 79,
   "id": "3b767fd8",
   "metadata": {},
   "outputs": [
    {
     "name": "stdout",
     "output_type": "stream",
     "text": [
      "2\n"
     ]
    }
   ],
   "source": [
    "print(a)"
   ]
  },
  {
   "cell_type": "code",
   "execution_count": 80,
   "id": "983cc1e7",
   "metadata": {},
   "outputs": [],
   "source": [
    "vartest()"
   ]
  },
  {
   "cell_type": "code",
   "execution_count": 81,
   "id": "d5fbed0d",
   "metadata": {},
   "outputs": [
    {
     "name": "stdout",
     "output_type": "stream",
     "text": [
      "3\n"
     ]
    }
   ],
   "source": [
    "print(a)"
   ]
  },
  {
   "cell_type": "code",
   "execution_count": 83,
   "id": "a560a7e9",
   "metadata": {},
   "outputs": [
    {
     "name": "stdout",
     "output_type": "stream",
     "text": [
      "1\n"
     ]
    }
   ],
   "source": [
    "b = 1 \n",
    "def vartest() : \n",
    "    global a \n",
    "    a += 1 \n",
    "vartest()\n",
    "print (b)"
   ]
  },
  {
   "cell_type": "markdown",
   "id": "691c41e6",
   "metadata": {},
   "source": [
    "# 람다형식으로 함수 더하기 "
   ]
  },
  {
   "cell_type": "code",
   "execution_count": 84,
   "id": "464a3f2b",
   "metadata": {},
   "outputs": [],
   "source": [
    "# lambda \n",
    "\n",
    "add = lambda a,b: a+b"
   ]
  },
  {
   "cell_type": "code",
   "execution_count": 85,
   "id": "c8e3ac24",
   "metadata": {},
   "outputs": [
    {
     "data": {
      "text/plain": [
       "7"
      ]
     },
     "execution_count": 85,
     "metadata": {},
     "output_type": "execute_result"
    }
   ],
   "source": [
    "add(3,4)"
   ]
  },
  {
   "cell_type": "code",
   "execution_count": 86,
   "id": "6015b8df",
   "metadata": {},
   "outputs": [
    {
     "name": "stdout",
     "output_type": "stream",
     "text": [
      "3\n"
     ]
    }
   ],
   "source": [
    "a = input()"
   ]
  },
  {
   "cell_type": "code",
   "execution_count": 87,
   "id": "be027b76",
   "metadata": {},
   "outputs": [
    {
     "name": "stdout",
     "output_type": "stream",
     "text": [
      "a is apple , b Is banana\n"
     ]
    }
   ],
   "source": [
    "a = input()"
   ]
  },
  {
   "cell_type": "code",
   "execution_count": 88,
   "id": "87ede17b",
   "metadata": {},
   "outputs": [
    {
     "data": {
      "text/plain": [
       "'a is apple , b Is banana'"
      ]
     },
     "execution_count": 88,
     "metadata": {},
     "output_type": "execute_result"
    }
   ],
   "source": [
    "a"
   ]
  },
  {
   "cell_type": "code",
   "execution_count": 89,
   "id": "4f155d00",
   "metadata": {},
   "outputs": [
    {
     "name": "stdout",
     "output_type": "stream",
     "text": [
      "숫자만입력하세요:3\n"
     ]
    }
   ],
   "source": [
    "a = input(\"숫자만입력하세요:\")"
   ]
  },
  {
   "cell_type": "code",
   "execution_count": 90,
   "id": "40e5725d",
   "metadata": {},
   "outputs": [
    {
     "data": {
      "text/plain": [
       "'3'"
      ]
     },
     "execution_count": 90,
     "metadata": {},
     "output_type": "execute_result"
    }
   ],
   "source": [
    "a"
   ]
  },
  {
   "cell_type": "code",
   "execution_count": 91,
   "id": "74e16b33",
   "metadata": {},
   "outputs": [
    {
     "name": "stdout",
     "output_type": "stream",
     "text": [
      "a is apple. \n"
     ]
    }
   ],
   "source": [
    "print(\"a is apple. \")"
   ]
  },
  {
   "cell_type": "code",
   "execution_count": 94,
   "id": "abd1f0fa",
   "metadata": {},
   "outputs": [
    {
     "name": "stdout",
     "output_type": "stream",
     "text": [
      "aisapple\n"
     ]
    }
   ],
   "source": [
    "print(\"a\" +  \"is\"  + \"apple\")"
   ]
  },
  {
   "cell_type": "code",
   "execution_count": 95,
   "id": "43b0210c",
   "metadata": {},
   "outputs": [
    {
     "name": "stdout",
     "output_type": "stream",
     "text": [
      "a is apple\n"
     ]
    }
   ],
   "source": [
    "print(\"a\" , \"is\"  , \"apple\")"
   ]
  },
  {
   "cell_type": "code",
   "execution_count": 96,
   "id": "01ea7a70",
   "metadata": {},
   "outputs": [
    {
     "name": "stdout",
     "output_type": "stream",
     "text": [
      "a:is:apple\n"
     ]
    }
   ],
   "source": [
    "print(\"a\" , \"is\", \"apple\",sep = ':')"
   ]
  },
  {
   "cell_type": "code",
   "execution_count": 99,
   "id": "dd05a019",
   "metadata": {},
   "outputs": [
    {
     "name": "stdout",
     "output_type": "stream",
     "text": [
      "0123456789"
     ]
    }
   ],
   "source": [
    "for i in range(10):\n",
    "    print (i ,end = '')"
   ]
  },
  {
   "cell_type": "code",
   "execution_count": 100,
   "id": "7ba36ca8",
   "metadata": {},
   "outputs": [
    {
     "name": "stdout",
     "output_type": "stream",
     "text": [
      "0:1:2:3:4:5:6:7:8:9:"
     ]
    }
   ],
   "source": [
    "for i in range(10):\n",
    "    print (i ,end = ':')"
   ]
  },
  {
   "cell_type": "markdown",
   "id": "1ad72491",
   "metadata": {},
   "source": [
    "# 파일열기 "
   ]
  },
  {
   "cell_type": "code",
   "execution_count": 129,
   "id": "3af2de28",
   "metadata": {},
   "outputs": [],
   "source": [
    "f = open(\"./test_file/새파일.txt\",'w')\n",
    "f.close()"
   ]
  },
  {
   "cell_type": "code",
   "execution_count": 108,
   "id": "55a40edf",
   "metadata": {},
   "outputs": [],
   "source": [
    "f = open(\"./test_file/새파일.txt\",'w')\n",
    "for i in range(1,11):\n",
    "    data = \"%d번쨰 줄입니다 \\n\" % i \n",
    "    f.write(data)\n",
    "f.close()"
   ]
  },
  {
   "cell_type": "code",
   "execution_count": 109,
   "id": "0b4e7359",
   "metadata": {},
   "outputs": [
    {
     "name": "stdout",
     "output_type": "stream",
     "text": [
      "1번쨰 줄입니다 \n",
      "\n"
     ]
    }
   ],
   "source": [
    "f = open(\"./test_file/새파일.txt\",'r')\n",
    "line = f.readline()\n",
    "print(line)"
   ]
  },
  {
   "cell_type": "code",
   "execution_count": 110,
   "id": "98a25c33",
   "metadata": {},
   "outputs": [
    {
     "name": "stdout",
     "output_type": "stream",
     "text": [
      "2번쨰 줄입니다 \n",
      "\n"
     ]
    }
   ],
   "source": [
    "line =f.readline()\n",
    "print(line)"
   ]
  },
  {
   "cell_type": "code",
   "execution_count": 111,
   "id": "5814ab28",
   "metadata": {},
   "outputs": [
    {
     "name": "stdout",
     "output_type": "stream",
     "text": [
      "3번쨰 줄입니다 \n",
      "\n",
      "4번쨰 줄입니다 \n",
      "\n",
      "5번쨰 줄입니다 \n",
      "\n",
      "6번쨰 줄입니다 \n",
      "\n",
      "7번쨰 줄입니다 \n",
      "\n",
      "8번쨰 줄입니다 \n",
      "\n",
      "9번쨰 줄입니다 \n",
      "\n",
      "10번쨰 줄입니다 \n",
      "\n"
     ]
    },
    {
     "data": {
      "text/plain": [
       "<function TextIOWrapper.close()>"
      ]
     },
     "execution_count": 111,
     "metadata": {},
     "output_type": "execute_result"
    }
   ],
   "source": [
    "while True : \n",
    "    line = f.readline()\n",
    "    if not line : break \n",
    "    print(line)\n",
    "f.close"
   ]
  },
  {
   "cell_type": "code",
   "execution_count": 118,
   "id": "70965dc9",
   "metadata": {},
   "outputs": [
    {
     "name": "stdout",
     "output_type": "stream",
     "text": [
      "[]\n"
     ]
    }
   ],
   "source": [
    "f = open(\"새파일.txt\",'r')\n",
    "lines = f.readlines()\n",
    "print(lines)"
   ]
  },
  {
   "cell_type": "code",
   "execution_count": 119,
   "id": "888080f4",
   "metadata": {},
   "outputs": [],
   "source": [
    "for line in lines : \n",
    "    print (line)"
   ]
  },
  {
   "cell_type": "code",
   "execution_count": 120,
   "id": "0bdeb9da",
   "metadata": {},
   "outputs": [
    {
     "name": "stdout",
     "output_type": "stream",
     "text": [
      "\n"
     ]
    }
   ],
   "source": [
    "f = open (\"새파일.txt\",'r')\n",
    "data =f.read()\n",
    "print(data)\n",
    "f.close()"
   ]
  },
  {
   "cell_type": "code",
   "execution_count": 121,
   "id": "186acd7b",
   "metadata": {},
   "outputs": [
    {
     "data": {
      "text/plain": [
       "''"
      ]
     },
     "execution_count": 121,
     "metadata": {},
     "output_type": "execute_result"
    }
   ],
   "source": [
    "data"
   ]
  },
  {
   "cell_type": "code",
   "execution_count": 122,
   "id": "8b9080fa",
   "metadata": {},
   "outputs": [],
   "source": [
    "f = open(\"새파일.txt\",'a')\n",
    "for i in range(11,21):\n",
    "    data =  data = \"%d번쨰 줄입니다 \\n\" % i \n",
    "    f.write(data)\n",
    "f.close()"
   ]
  },
  {
   "cell_type": "code",
   "execution_count": 123,
   "id": "20f4a8a0",
   "metadata": {},
   "outputs": [],
   "source": [
    "with open (\"새파일.txt\",'a') as f : \n",
    "    f.write (\"끝!\")\n",
    "    "
   ]
  },
  {
   "cell_type": "code",
   "execution_count": null,
   "id": "fc2361ee",
   "metadata": {},
   "outputs": [],
   "source": []
  }
 ],
 "metadata": {
  "kernelspec": {
   "display_name": "Python 3 (ipykernel)",
   "language": "python",
   "name": "python3"
  },
  "language_info": {
   "codemirror_mode": {
    "name": "ipython",
    "version": 3
   },
   "file_extension": ".py",
   "mimetype": "text/x-python",
   "name": "python",
   "nbconvert_exporter": "python",
   "pygments_lexer": "ipython3",
   "version": "3.9.10"
  }
 },
 "nbformat": 4,
 "nbformat_minor": 5
}
